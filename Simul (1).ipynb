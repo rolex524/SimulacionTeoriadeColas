{
  "nbformat": 4,
  "nbformat_minor": 0,
  "metadata": {
    "colab": {
      "name": "Simul.ipynb",
      "provenance": [],
      "collapsed_sections": []
    },
    "kernelspec": {
      "name": "python3",
      "display_name": "Python 3"
    }
  },
  "cells": [
    {
      "cell_type": "code",
      "metadata": {
        "id": "J0AOSSr1dSnL",
        "colab_type": "code",
        "outputId": "b133251b-f6f6-4cc7-d9f5-e27b5b7877e8",
        "colab": {
          "base_uri": "https://localhost:8080/",
          "height": 103
        }
      },
      "source": [
        "#by. Rolly Vasquez\n",
        "!pip install simpy"
      ],
      "execution_count": 0,
      "outputs": [
        {
          "output_type": "stream",
          "text": [
            "Collecting simpy\n",
            "  Downloading https://files.pythonhosted.org/packages/5a/64/8f0fc71400d41b6c2c6443d333a1cade458d23d4945ccda700c810ff6aae/simpy-3.0.11-py2.py3-none-any.whl\n",
            "Installing collected packages: simpy\n",
            "Successfully installed simpy-3.0.11\n"
          ],
          "name": "stdout"
        }
      ]
    },
    {
      "cell_type": "code",
      "metadata": {
        "id": "u_wqN0mDeeGp",
        "colab_type": "code",
        "colab": {}
      },
      "source": [
        "import simpy # módulo para realizar simulaciones\n",
        "import random as rnd # módulo para generar números aleatorios\n",
        "import numpy as np\n",
        "# simulación basada en https://naps.com.mx/blog/simulacion-en-python-usando-simpy/"
      ],
      "execution_count": 0,
      "outputs": []
    },
    {
      "cell_type": "code",
      "metadata": {
        "id": "HZua_Wg6fGMt",
        "colab_type": "code",
        "colab": {}
      },
      "source": [
        "semilla = 30 # semilla para números aleatorios\n",
        "n_servidores = 1 # cantidad de servidores en el sistema de cola de la caja de atención al cliente\n",
        "tmin = 1 # parámetro de la distribución uniforme en minutos\n",
        "tmax = 5 # parámetro de la distribución uniforme en minutos\n",
        "t_llegadas = 6 # parámetro de la distribución exponencial en minutos\n",
        "tot_cli = 15 # número máximo de clientes\n",
        "\n",
        "tet = 0.0 # tiempo de espera total\n",
        "dst = 0.0 # duracion de servicio total\n",
        "fin = 0.0 # minuto en el que finaliza"
      ],
      "execution_count": 0,
      "outputs": []
    },
    {
      "cell_type": "code",
      "metadata": {
        "id": "aTnKyk8tfLWy",
        "colab_type": "code",
        "colab": {}
      },
      "source": [
        "def atender(cliente):\n",
        "\tglobal dst  #Para poder acceder a la variable dst declarada anteriormente\n",
        "\tt_servicio = tmin + ((tmax - tmin)*rnd.random()) # valor aleatorio del tiempo de servicio de la distribución uniforme\n",
        "\tyield env.timeout(t_servicio) # deja correr el tiempo t_servicio minutos\n",
        "\tprint(\" \\o/ Atención hecha %s en %.2f minutos\" % (cliente,t_servicio))\n",
        "\tdst = dst + t_servicio # Acumula los tiempos de uso "
      ],
      "execution_count": 0,
      "outputs": []
    },
    {
      "cell_type": "code",
      "metadata": {
        "id": "krBfu3pmiJwG",
        "colab_type": "code",
        "colab": {}
      },
      "source": [
        "def cliente (env, nombre, personal ):\n",
        "\tglobal tet\n",
        "\tglobal fin\n",
        "\tllega = env.now # Guarda el minuto de llegada del cliente\n",
        "\tprint (\"---> %s llegó al banco en el minuto %.2f\" % (nombre, llega))\n",
        "\twith personal.request() as request: # Espera su turno\n",
        "\t\tyield request # Obtiene turno\n",
        "\t\tpasa = env.now # Guarda el minuto cuado comienza a ser atendido\n",
        "\t\tespera = pasa - llega # Calcula el tiempo que esperó\n",
        "\t\ttet = tet + espera # Acumula los tiempos de espera\n",
        "\t\tprint (\"**** %s pasa con el cajero en el minuto %.2f habiendo esperado %.2f\" % (nombre, pasa, espera))\n",
        "\t\tyield env.process(atender(nombre)) # Invoca al proceso atender\n",
        "\t\tdeja = env.now #Guarda el minuto en que termina el proceso atender \n",
        "\t\tprint (\"<--- %s deja caja en minuto %.2f\" % (nombre, deja))\n",
        "\t\tfin = deja # Conserva globalmente el último minuto de la simulación"
      ],
      "execution_count": 0,
      "outputs": []
    },
    {
      "cell_type": "code",
      "metadata": {
        "id": "3HYTS1z6iMxf",
        "colab_type": "code",
        "colab": {}
      },
      "source": [
        "def principal (env, personal):\n",
        "\tllegada = 0\n",
        "\tfor i in range(tot_cli): # Para tot_cli clientes\n",
        "\t\tllegada = -t_llegadas * np.log(rnd.random()) # valor aleatorio del tiempo de llegada de la distribución exponencial\n",
        "\t\tyield env.timeout(llegada)  # Deja transcurrir un tiempo entre uno y otro\n",
        "\t\tenv.process(cliente(env, 'Cliente %d' % i, personal))"
      ],
      "execution_count": 0,
      "outputs": []
    },
    {
      "cell_type": "code",
      "metadata": {
        "id": "ccQNeffKfQpT",
        "colab_type": "code",
        "outputId": "dda54bd5-143a-465f-e1bc-26455fcd40c6",
        "colab": {
          "base_uri": "https://localhost:8080/",
          "height": 1000
        }
      },
      "source": [
        "print (\"Simulación Banco\")\n",
        "rnd.seed(semilla)  # Cualquier valor\n",
        "env = simpy.Environment() # Crea el objeto entorno de simulación de la caja de atención al cliente\n",
        "personal = simpy.Resource(env, n_servidores) #Crea los recursos (servidores)\n",
        "env.process(principal(env, personal)) #Invoca el proceso principal\n",
        "env.run() #Inicia la simulación"
      ],
      "execution_count": 0,
      "outputs": [
        {
          "output_type": "stream",
          "text": [
            "Simulación Banco\n",
            "---> Cliente 0 llegó al banco en el minuto 3.71\n",
            "**** Cliente 0 pasa con el cajero en el minuto 3.71 habiendo esperado 0.00\n",
            " \\o/ Atención hecha Cliente 0 en 1.12 minutos\n",
            "<--- Cliente 0 deja caja en minuto 4.83\n",
            "---> Cliente 1 llegó al banco en el minuto 11.15\n",
            "**** Cliente 1 pasa con el cajero en el minuto 11.15 habiendo esperado 0.00\n",
            " \\o/ Atención hecha Cliente 1 en 1.84 minutos\n",
            "<--- Cliente 1 deja caja en minuto 12.99\n",
            "---> Cliente 2 llegó al banco en el minuto 13.70\n",
            "**** Cliente 2 pasa con el cajero en el minuto 13.70 habiendo esperado 0.00\n",
            " \\o/ Atención hecha Cliente 2 en 2.59 minutos\n",
            "<--- Cliente 2 deja caja en minuto 16.29\n",
            "---> Cliente 3 llegó al banco en el minuto 21.85\n",
            "**** Cliente 3 pasa con el cajero en el minuto 21.85 habiendo esperado 0.00\n",
            "---> Cliente 4 llegó al banco en el minuto 24.51\n",
            " \\o/ Atención hecha Cliente 3 en 4.96 minutos\n",
            "<--- Cliente 3 deja caja en minuto 26.80\n",
            "**** Cliente 4 pasa con el cajero en el minuto 26.80 habiendo esperado 2.29\n",
            "---> Cliente 5 llegó al banco en el minuto 29.15\n",
            "---> Cliente 6 llegó al banco en el minuto 29.19\n",
            " \\o/ Atención hecha Cliente 4 en 4.97 minutos\n",
            "<--- Cliente 4 deja caja en minuto 31.78\n",
            "**** Cliente 5 pasa con el cajero en el minuto 31.78 habiendo esperado 2.63\n",
            " \\o/ Atención hecha Cliente 5 en 1.29 minutos\n",
            "<--- Cliente 5 deja caja en minuto 33.07\n",
            "**** Cliente 6 pasa con el cajero en el minuto 33.07 habiendo esperado 3.87\n",
            " \\o/ Atención hecha Cliente 6 en 1.64 minutos\n",
            "<--- Cliente 6 deja caja en minuto 34.71\n",
            "---> Cliente 7 llegó al banco en el minuto 37.69\n",
            "**** Cliente 7 pasa con el cajero en el minuto 37.69 habiendo esperado 0.00\n",
            "---> Cliente 8 llegó al banco en el minuto 38.72\n",
            "---> Cliente 9 llegó al banco en el minuto 39.24\n",
            "---> Cliente 10 llegó al banco en el minuto 39.41\n",
            " \\o/ Atención hecha Cliente 7 en 3.40 minutos\n",
            "<--- Cliente 7 deja caja en minuto 41.09\n",
            "**** Cliente 8 pasa con el cajero en el minuto 41.09 habiendo esperado 2.37\n",
            "---> Cliente 11 llegó al banco en el minuto 41.95\n",
            " \\o/ Atención hecha Cliente 8 en 3.14 minutos\n",
            "<--- Cliente 8 deja caja en minuto 44.23\n",
            "**** Cliente 9 pasa con el cajero en el minuto 44.23 habiendo esperado 4.99\n",
            " \\o/ Atención hecha Cliente 9 en 1.09 minutos\n",
            "<--- Cliente 9 deja caja en minuto 45.32\n",
            "**** Cliente 10 pasa con el cajero en el minuto 45.32 habiendo esperado 5.91\n",
            " \\o/ Atención hecha Cliente 10 en 4.22 minutos\n",
            "<--- Cliente 10 deja caja en minuto 49.55\n",
            "**** Cliente 11 pasa con el cajero en el minuto 49.55 habiendo esperado 7.59\n",
            " \\o/ Atención hecha Cliente 11 en 3.69 minutos\n",
            "<--- Cliente 11 deja caja en minuto 53.23\n",
            "---> Cliente 12 llegó al banco en el minuto 58.12\n",
            "**** Cliente 12 pasa con el cajero en el minuto 58.12 habiendo esperado 0.00\n",
            "---> Cliente 13 llegó al banco en el minuto 59.74\n",
            " \\o/ Atención hecha Cliente 12 en 3.26 minutos\n",
            "<--- Cliente 12 deja caja en minuto 61.38\n",
            "**** Cliente 13 pasa con el cajero en el minuto 61.38 habiendo esperado 1.64\n",
            "---> Cliente 14 llegó al banco en el minuto 62.11\n",
            " \\o/ Atención hecha Cliente 13 en 3.55 minutos\n",
            "<--- Cliente 13 deja caja en minuto 64.93\n",
            "**** Cliente 14 pasa con el cajero en el minuto 64.93 habiendo esperado 2.83\n",
            " \\o/ Atención hecha Cliente 14 en 4.58 minutos\n",
            "<--- Cliente 14 deja caja en minuto 69.51\n"
          ],
          "name": "stdout"
        }
      ]
    },
    {
      "cell_type": "code",
      "metadata": {
        "id": "JWkoB39zfYij",
        "colab_type": "code",
        "outputId": "a96957da-2e70-4489-ea4b-e2b48b975636",
        "colab": {
          "base_uri": "https://localhost:8080/",
          "height": 116
        }
      },
      "source": [
        "print(\"\\nIndicadores obtenidos: \")\n",
        "lpc = tet/fin\n",
        "print (\"\\nLongitud promedio de la cola: %.2f\" % lpc)\n",
        "tep = tet/tot_cli\n",
        "print (\"Tiempo de espera promedio = %.2f\" % tep)\n",
        "upi = (dst/fin)/n_servidores\n",
        "print (\"Uso promedio de la instalacion = %.2f\" % upi)"
      ],
      "execution_count": 0,
      "outputs": [
        {
          "output_type": "stream",
          "text": [
            "\n",
            "Indicadores obtenidos: \n",
            "\n",
            "Longitud promedio de la cola: 0.49\n",
            "Tiempo de espera promedio = 2.27\n",
            "Uso promedio de la instalacion = 0.65\n"
          ],
          "name": "stdout"
        }
      ]
    }
  ]
}